{
 "cells": [
  {
   "cell_type": "markdown",
   "metadata": {},
   "source": [
    "# Write down a program in Python for Opening a File and Writing \" I Love LetsUpgrade\" And close it, and read it back again, and then append some data to it and close it."
   ]
  },
  {
   "cell_type": "code",
   "execution_count": 7,
   "metadata": {},
   "outputs": [],
   "source": [
    "xyz = open(\"pythonFile.txt\",'w')\n",
    "\n",
    "xyz.write(\"I Love LetsUpgrade\")\n",
    "\n",
    "xyz.close()"
   ]
  },
  {
   "cell_type": "code",
   "execution_count": 5,
   "metadata": {},
   "outputs": [
    {
     "name": "stdout",
     "output_type": "stream",
     "text": [
      "I Love LetsUpgrade We have Updated this !!\n",
      "\n"
     ]
    }
   ],
   "source": [
    "xyz = open(\"pythonFile.txt\",'r+')\n",
    "\n",
    "print(xyz.read())\n",
    "\n",
    "xyz.write(\" We have Updated this !!\")\n",
    "\n",
    "print(xyz.read())\n",
    "\n",
    "xyz.close()"
   ]
  },
  {
   "cell_type": "markdown",
   "metadata": {},
   "source": [
    "# Write a function which can return a Factorial of any numbers as INT, given in the argument"
   ]
  },
  {
   "cell_type": "code",
   "execution_count": 10,
   "metadata": {},
   "outputs": [
    {
     "name": "stdout",
     "output_type": "stream",
     "text": [
      "Enter a number13\n",
      "Factorial of 13 is 6227020800\n"
     ]
    }
   ],
   "source": [
    "def factorial(n): \n",
    "       \n",
    "    if n == 0: \n",
    "        return 1\n",
    "      \n",
    "    return n * factorial(n-1) \n",
    "\n",
    "num = int(input(\"Enter a number\")); \n",
    "print(\"Factorial of\", num, \"is\", \n",
    "factorial(num)) "
   ]
  },
  {
   "cell_type": "code",
   "execution_count": null,
   "metadata": {},
   "outputs": [],
   "source": []
  }
 ],
 "metadata": {
  "kernelspec": {
   "display_name": "Python 3",
   "language": "python",
   "name": "python3"
  },
  "language_info": {
   "codemirror_mode": {
    "name": "ipython",
    "version": 3
   },
   "file_extension": ".py",
   "mimetype": "text/x-python",
   "name": "python",
   "nbconvert_exporter": "python",
   "pygments_lexer": "ipython3",
   "version": "3.8.5"
  }
 },
 "nbformat": 4,
 "nbformat_minor": 4
}
